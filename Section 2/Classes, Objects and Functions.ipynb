{
 "cells": [
  {
   "cell_type": "markdown",
   "metadata": {},
   "source": [
    "# Classes and Objects"
   ]
  },
  {
   "cell_type": "code",
   "execution_count": 1,
   "metadata": {},
   "outputs": [],
   "source": [
    "class ClassWithFunction:\n",
    "    def return_double(self, x):\n",
    "        return x*2"
   ]
  },
  {
   "cell_type": "code",
   "execution_count": 2,
   "metadata": {},
   "outputs": [
    {
     "name": "stdout",
     "output_type": "stream",
     "text": [
      "8\n"
     ]
    }
   ],
   "source": [
    "obj = ClassWithFunction()\n",
    "print obj.return_double(4)"
   ]
  },
  {
   "cell_type": "code",
   "execution_count": 4,
   "metadata": {},
   "outputs": [],
   "source": [
    "class ClassWithMembers:\n",
    "    def __init__(self, a, b):\n",
    "        self.x = a\n",
    "        self.y = b\n",
    "        \n",
    "    def doubleX(self):\n",
    "        self.x *= 2\n",
    "    \n",
    "    def tripleY(self):\n",
    "        self.y *= 3\n",
    "    \n",
    "    def addX(self, c):\n",
    "        self.x += c\n",
    "    \n",
    "    def subY(self, c):\n",
    "        self.y -=c\n",
    "        \n",
    "    def getX(self):\n",
    "        print \"Value of X is \" + str(self.x)\n",
    "    \n",
    "    def getY(self):\n",
    "        print \"Value of Y is \" + str(self.y)"
   ]
  },
  {
   "cell_type": "code",
   "execution_count": 6,
   "metadata": {},
   "outputs": [],
   "source": [
    "my_obj = ClassWithMembers(3, 8)"
   ]
  },
  {
   "cell_type": "code",
   "execution_count": 7,
   "metadata": {},
   "outputs": [
    {
     "name": "stdout",
     "output_type": "stream",
     "text": [
      "Value of X is 3\n",
      "Value of Y is 8\n"
     ]
    }
   ],
   "source": [
    "my_obj.getX()\n",
    "my_obj.getY()"
   ]
  },
  {
   "cell_type": "code",
   "execution_count": 8,
   "metadata": {},
   "outputs": [
    {
     "name": "stdout",
     "output_type": "stream",
     "text": [
      "Value of X is 6\n",
      "Value of Y is 24\n"
     ]
    }
   ],
   "source": [
    "my_obj.doubleX()\n",
    "my_obj.tripleY()\n",
    "my_obj.getX()\n",
    "my_obj.getY()"
   ]
  },
  {
   "cell_type": "code",
   "execution_count": 9,
   "metadata": {},
   "outputs": [
    {
     "name": "stdout",
     "output_type": "stream",
     "text": [
      "Value of X is 13\n"
     ]
    }
   ],
   "source": [
    "my_obj.addX(7)\n",
    "my_obj.getX()"
   ]
  },
  {
   "cell_type": "markdown",
   "metadata": {},
   "source": [
    "# Functions"
   ]
  },
  {
   "cell_type": "markdown",
   "metadata": {},
   "source": [
    "### Call by Object \n",
    "\n",
    "For Mutable objects : Call by reference  \n",
    "\n",
    "For Immutable Objects : Call by value"
   ]
  },
  {
   "cell_type": "code",
   "execution_count": 10,
   "metadata": {},
   "outputs": [],
   "source": [
    "def show_call_by_object(my_var):\n",
    "    print \"Id of my_var is \", id(my_var)\n",
    "    my_var += 2\n",
    "    print \"Id of my_var is \", id(my_var)\n"
   ]
  },
  {
   "cell_type": "code",
   "execution_count": 13,
   "metadata": {},
   "outputs": [
    {
     "name": "stdout",
     "output_type": "stream",
     "text": [
      "ID before callis  94069532165368\n",
      "Id of my_var is  94069532165368\n",
      "Id of my_var is  94069532165320\n",
      "ID after call is  94069532165368\n"
     ]
    }
   ],
   "source": [
    "x = 9\n",
    "print \"ID before callis \", id(x)\n",
    "show_call_by_object(x)\n",
    "print \"ID after call is \", id(x)"
   ]
  },
  {
   "cell_type": "code",
   "execution_count": 18,
   "metadata": {},
   "outputs": [],
   "source": [
    "def show_call_by_object_mutable(my_var):\n",
    "    print \"Id of my_var is \", id(my_var)\n",
    "    my_var.append(4)\n",
    "    print \"Id of my_var is \", id(my_var)"
   ]
  },
  {
   "cell_type": "code",
   "execution_count": 19,
   "metadata": {},
   "outputs": [
    {
     "name": "stdout",
     "output_type": "stream",
     "text": [
      "ID before callis  140208275277584\n",
      "Id of my_var is  140208275277584\n",
      "Id of my_var is  140208275277584\n",
      "ID after call is  140208275277584\n"
     ]
    }
   ],
   "source": [
    "my_list = [1, 2, 3]\n",
    "print \"ID before callis \", id(my_list)\n",
    "show_call_by_object_mutable(my_list)\n",
    "print \"ID after call is \", id(my_list)"
   ]
  },
  {
   "cell_type": "code",
   "execution_count": 20,
   "metadata": {},
   "outputs": [
    {
     "data": {
      "text/plain": [
       "[1, 2, 3, 4]"
      ]
     },
     "execution_count": 20,
     "metadata": {},
     "output_type": "execute_result"
    }
   ],
   "source": [
    "my_list"
   ]
  },
  {
   "cell_type": "markdown",
   "metadata": {},
   "source": [
    "## Different ways of accessing Function arguments"
   ]
  },
  {
   "cell_type": "code",
   "execution_count": 27,
   "metadata": {},
   "outputs": [],
   "source": [
    "def my_func(my_arg1, my_arg2, my_arg3='ef'):\n",
    "    print \"First is \", my_arg1\n",
    "    print \"Second is \", my_arg2\n",
    "    print \"Third is \", my_arg3"
   ]
  },
  {
   "cell_type": "code",
   "execution_count": 29,
   "metadata": {},
   "outputs": [
    {
     "name": "stdout",
     "output_type": "stream",
     "text": [
      "First is  ab\n",
      "Second is  cd\n",
      "Third is  gh\n"
     ]
    }
   ],
   "source": [
    "my_func(my_arg1='ab', my_arg2='cd', my_arg3='gh')"
   ]
  },
  {
   "cell_type": "code",
   "execution_count": 30,
   "metadata": {},
   "outputs": [],
   "source": [
    "def my_func(*args):\n",
    "    for x in args:\n",
    "        print \"Argument is \", x"
   ]
  },
  {
   "cell_type": "code",
   "execution_count": 31,
   "metadata": {},
   "outputs": [
    {
     "name": "stdout",
     "output_type": "stream",
     "text": [
      "Argument is  [1, 2, 3]\n",
      "Argument is  hello\n",
      "Argument is  world\n",
      "Argument is  790\n"
     ]
    }
   ],
   "source": [
    "my_func([1, 2, 3], \"hello\", \"world\", 790)"
   ]
  },
  {
   "cell_type": "code",
   "execution_count": 33,
   "metadata": {},
   "outputs": [],
   "source": [
    "def my_func_key(**kwargs):\n",
    "    for (key,value) in kwargs.iteritems():\n",
    "        print \"Argument is \",\n",
    "        print key,\n",
    "        print value"
   ]
  },
  {
   "cell_type": "code",
   "execution_count": 34,
   "metadata": {},
   "outputs": [
    {
     "name": "stdout",
     "output_type": "stream",
     "text": [
      "Argument is  second 6775\n",
      "Argument is  third [0, 1, 2]\n",
      "Argument is  first 123\n"
     ]
    }
   ],
   "source": [
    "my_func_key( first= \"123\", second=6775, third=[0, 1, 2])"
   ]
  },
  {
   "cell_type": "code",
   "execution_count": null,
   "metadata": {},
   "outputs": [],
   "source": []
  }
 ],
 "metadata": {
  "kernelspec": {
   "display_name": "Python 2",
   "language": "python",
   "name": "python2"
  },
  "language_info": {
   "codemirror_mode": {
    "name": "ipython",
    "version": 2
   },
   "file_extension": ".py",
   "mimetype": "text/x-python",
   "name": "python",
   "nbconvert_exporter": "python",
   "pygments_lexer": "ipython2",
   "version": "2.7.15"
  }
 },
 "nbformat": 4,
 "nbformat_minor": 2
}
