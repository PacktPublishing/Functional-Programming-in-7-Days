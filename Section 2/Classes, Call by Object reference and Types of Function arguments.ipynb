{
 "cells": [
  {
   "cell_type": "markdown",
   "metadata": {},
   "source": [
    "# Classes"
   ]
  },
  {
   "cell_type": "code",
   "execution_count": 1,
   "metadata": {},
   "outputs": [],
   "source": [
    "class classWithFunction:\n",
    "    def doubleValue(self, x):\n",
    "        return x*2"
   ]
  },
  {
   "cell_type": "code",
   "execution_count": 2,
   "metadata": {},
   "outputs": [
    {
     "name": "stdout",
     "output_type": "stream",
     "text": [
      "10\n"
     ]
    }
   ],
   "source": [
    "my_obj = classWithFunction()\n",
    "print my_obj.doubleValue(5)"
   ]
  },
  {
   "cell_type": "code",
   "execution_count": 7,
   "metadata": {},
   "outputs": [],
   "source": [
    "class classWithMember:\n",
    "    def __init__(self, a, b):\n",
    "        self.x = a\n",
    "        self.y = b\n",
    "    \n",
    "    def doubleXY(self):\n",
    "        self.x *= 2\n",
    "        self.y *= 2\n",
    "    \n",
    "    def addX(self, c):\n",
    "        self.x += c\n",
    "    \n",
    "    def addY(self, c):\n",
    "        self.y += c\n",
    "    \n",
    "    def getX(self):\n",
    "        print \"X is\", self.x\n",
    "    \n",
    "    def getY(self):\n",
    "        print \"Y is\", self.y"
   ]
  },
  {
   "cell_type": "code",
   "execution_count": 8,
   "metadata": {},
   "outputs": [
    {
     "name": "stdout",
     "output_type": "stream",
     "text": [
      "X is 3\n",
      "Y is 7\n"
     ]
    }
   ],
   "source": [
    "my_new_obj = classWithMember(3, 7)\n",
    "my_new_obj.getX()\n",
    "my_new_obj.getY()"
   ]
  },
  {
   "cell_type": "code",
   "execution_count": 9,
   "metadata": {},
   "outputs": [
    {
     "name": "stdout",
     "output_type": "stream",
     "text": [
      "X is 6\n",
      "Y is 14\n"
     ]
    }
   ],
   "source": [
    "my_new_obj.doubleXY()\n",
    "my_new_obj.getX()\n",
    "my_new_obj.getY()"
   ]
  },
  {
   "cell_type": "code",
   "execution_count": 10,
   "metadata": {},
   "outputs": [
    {
     "name": "stdout",
     "output_type": "stream",
     "text": [
      "X is 15\n",
      "Y is 7\n"
     ]
    }
   ],
   "source": [
    "my_new_obj.addX(9)\n",
    "my_new_obj.addY(-7)\n",
    "my_new_obj.getX()\n",
    "my_new_obj.getY()"
   ]
  },
  {
   "cell_type": "markdown",
   "metadata": {},
   "source": [
    "# Call by Object Reference\n",
    "\n",
    "### For Mutable Objects : call by reference\n",
    "### For Immutable Objects : call by value"
   ]
  },
  {
   "cell_type": "code",
   "execution_count": 11,
   "metadata": {},
   "outputs": [],
   "source": [
    "def my_func(x):\n",
    "    print \"ID of X inside function before is \", id(x)\n",
    "    x += 2\n",
    "    print \"ID of X inside function later  is \", id(x)"
   ]
  },
  {
   "cell_type": "code",
   "execution_count": 14,
   "metadata": {},
   "outputs": [
    {
     "name": "stdout",
     "output_type": "stream",
     "text": [
      "ID of X before function call   is  94873825600856\n",
      "ID of X inside function before is  94873825600856\n",
      "ID of X inside function later  is  94873825600808\n",
      "ID of X after  function call   is  94873825600856\n"
     ]
    }
   ],
   "source": [
    "x = 5\n",
    "print \"ID of X before function call   is \", id(x)\n",
    "my_func(x)\n",
    "print \"ID of X after  function call   is \", id(x)"
   ]
  },
  {
   "cell_type": "code",
   "execution_count": 21,
   "metadata": {},
   "outputs": [],
   "source": [
    "def my_func_mutable(my_list):\n",
    "    print \"ID of my_list inside function before is \", id(my_list)\n",
    "    my_list.append(4)\n",
    "    print \"ID of my_list inside function later  is \", id(my_list)"
   ]
  },
  {
   "cell_type": "code",
   "execution_count": 22,
   "metadata": {},
   "outputs": [
    {
     "name": "stdout",
     "output_type": "stream",
     "text": [
      "ID of my_list before function call   is  140094115939824\n",
      "Before function call contents are  [1, 3, 5]\n",
      "ID of my_list inside function before is  140094115939824\n",
      "ID of my_list inside function later  is  140094115939824\n",
      "After function call contents are  [1, 3, 5, 4]\n",
      "ID of my_list after  function call   is  140094115939824\n"
     ]
    }
   ],
   "source": [
    "my_list = [1, 3, 5]\n",
    "print \"ID of my_list before function call   is \", id(my_list)\n",
    "print \"Before function call contents are \", my_list\n",
    "my_func_mutable(my_list)\n",
    "print \"After function call contents are \", my_list\n",
    "print \"ID of my_list after  function call   is \", id(my_list)"
   ]
  },
  {
   "cell_type": "markdown",
   "metadata": {},
   "source": [
    "# Accessing Arguments"
   ]
  },
  {
   "cell_type": "code",
   "execution_count": 29,
   "metadata": {},
   "outputs": [],
   "source": [
    "#Required Arguments\n",
    "def func_sample_required(arg1, arg2, arg3):\n",
    "    print \"First Argument is \", arg1\n",
    "    print \"Second Argument is \", arg2\n",
    "    print \"Third Argument is \", arg3"
   ]
  },
  {
   "cell_type": "code",
   "execution_count": 30,
   "metadata": {},
   "outputs": [
    {
     "name": "stdout",
     "output_type": "stream",
     "text": [
      "First Argument is  1\n",
      "Second Argument is  3\n",
      "Third Argument is  Hello World\n"
     ]
    }
   ],
   "source": [
    "func_sample_required(1, 3, \"Hello World\")"
   ]
  },
  {
   "cell_type": "code",
   "execution_count": 40,
   "metadata": {},
   "outputs": [],
   "source": [
    "#Keyword Arguments\n",
    "def func_sample_keyword(arg1, arg2, arg3):\n",
    "    print \"First Argument is \", arg1\n",
    "    print \"Second Argument is \", arg2\n",
    "    print \"Third Argument is \", arg3"
   ]
  },
  {
   "cell_type": "code",
   "execution_count": 41,
   "metadata": {},
   "outputs": [
    {
     "name": "stdout",
     "output_type": "stream",
     "text": [
      "First Argument is  1\n",
      "Second Argument is  3\n",
      "Third Argument is  Hello World\n"
     ]
    }
   ],
   "source": [
    "func_sample_keyword(arg1=1, arg3=\"Hello World\", arg2=3)"
   ]
  },
  {
   "cell_type": "code",
   "execution_count": 43,
   "metadata": {},
   "outputs": [],
   "source": [
    "#Default Arguments\n",
    "def func_sample_default(arg1, arg2, arg3=\"Hello World\"):\n",
    "    print \"First Argument is \", arg1\n",
    "    print \"Second Argument is \", arg2\n",
    "    print \"Third Argument is \", arg3"
   ]
  },
  {
   "cell_type": "code",
   "execution_count": 46,
   "metadata": {},
   "outputs": [
    {
     "name": "stdout",
     "output_type": "stream",
     "text": [
      "First Argument is  1\n",
      "Second Argument is  3\n",
      "Third Argument is  Hello World\n"
     ]
    }
   ],
   "source": [
    "func_sample_default(1, arg2=3)"
   ]
  },
  {
   "cell_type": "code",
   "execution_count": 47,
   "metadata": {},
   "outputs": [],
   "source": [
    "#Variable Arguments\n",
    "def func_sample_variable(*args):\n",
    "    for arg in args:\n",
    "        print \"Argument is \", arg"
   ]
  },
  {
   "cell_type": "code",
   "execution_count": 48,
   "metadata": {},
   "outputs": [
    {
     "name": "stdout",
     "output_type": "stream",
     "text": [
      "Argument is  1\n",
      "Argument is  3\n",
      "Argument is  Hello World\n"
     ]
    }
   ],
   "source": [
    "func_sample_variable(1, 3, \"Hello World\")"
   ]
  },
  {
   "cell_type": "code",
   "execution_count": 49,
   "metadata": {},
   "outputs": [],
   "source": [
    "#Variable Keyword Arguments\n",
    "def func_sample_variable_keyword(**kwargs):\n",
    "    for key in kwargs:\n",
    "        print \"Argument \",key, \" is \", kwargs[key]"
   ]
  },
  {
   "cell_type": "code",
   "execution_count": 51,
   "metadata": {},
   "outputs": [
    {
     "name": "stdout",
     "output_type": "stream",
     "text": [
      "Argument  arg1  is  1\n",
      "Argument  arg2  is  3\n",
      "Argument  arg3  is  Hello World\n"
     ]
    }
   ],
   "source": [
    "func_sample_variable_keyword(arg1=1, arg3=\"Hello World\", arg2=3)"
   ]
  },
  {
   "cell_type": "code",
   "execution_count": null,
   "metadata": {},
   "outputs": [],
   "source": []
  }
 ],
 "metadata": {
  "kernelspec": {
   "display_name": "Python 2",
   "language": "python",
   "name": "python2"
  },
  "language_info": {
   "codemirror_mode": {
    "name": "ipython",
    "version": 2
   },
   "file_extension": ".py",
   "mimetype": "text/x-python",
   "name": "python",
   "nbconvert_exporter": "python",
   "pygments_lexer": "ipython2",
   "version": "2.7.15"
  }
 },
 "nbformat": 4,
 "nbformat_minor": 2
}
