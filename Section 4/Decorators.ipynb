{
 "cells": [
  {
   "cell_type": "markdown",
   "metadata": {},
   "source": [
    "# Decorators"
   ]
  },
  {
   "cell_type": "code",
   "execution_count": 1,
   "metadata": {},
   "outputs": [],
   "source": [
    "def my_function():\n",
    "    print \"I am a simple function\""
   ]
  },
  {
   "cell_type": "code",
   "execution_count": 2,
   "metadata": {},
   "outputs": [
    {
     "name": "stdout",
     "output_type": "stream",
     "text": [
      "I am a simple function\n"
     ]
    }
   ],
   "source": [
    "my_function()"
   ]
  },
  {
   "cell_type": "code",
   "execution_count": 3,
   "metadata": {},
   "outputs": [],
   "source": [
    "def my_decorator(my_func):\n",
    "    def wrapper_func():\n",
    "        print \"Inside Decorator\"\n",
    "        my_func()\n",
    "        print \"Decorator Finished\"\n",
    "    return wrapper_func"
   ]
  },
  {
   "cell_type": "code",
   "execution_count": 4,
   "metadata": {},
   "outputs": [],
   "source": [
    "my_decorated_function = my_decorator(my_function)"
   ]
  },
  {
   "cell_type": "code",
   "execution_count": 5,
   "metadata": {},
   "outputs": [
    {
     "name": "stdout",
     "output_type": "stream",
     "text": [
      "Inside Decorator\n",
      "I am a simple function\n",
      "Decorator Finished\n"
     ]
    }
   ],
   "source": [
    "my_decorated_function()"
   ]
  },
  {
   "cell_type": "markdown",
   "metadata": {},
   "source": [
    "# Using @ notation for decorator"
   ]
  },
  {
   "cell_type": "code",
   "execution_count": 6,
   "metadata": {},
   "outputs": [],
   "source": [
    "@my_decorator\n",
    "def my_other_simple_function():\n",
    "    print \"I am another simple function\""
   ]
  },
  {
   "cell_type": "code",
   "execution_count": 7,
   "metadata": {},
   "outputs": [
    {
     "name": "stdout",
     "output_type": "stream",
     "text": [
      "Inside Decorator\n",
      "I am another simple function\n",
      "Decorator Finished\n"
     ]
    }
   ],
   "source": [
    "my_other_simple_function()"
   ]
  },
  {
   "cell_type": "markdown",
   "metadata": {},
   "source": [
    "# Nested Decorator"
   ]
  },
  {
   "cell_type": "code",
   "execution_count": 11,
   "metadata": {},
   "outputs": [],
   "source": [
    "def run_multiple(num_times):\n",
    "    \n",
    "    def nested_decorator(my_func):\n",
    "    \n",
    "        def wrapper_run_multiple():\n",
    "            print \"Inside Inner decorator\"\n",
    "            for i in range(0, num_times):\n",
    "                my_func()\n",
    "            print \"Inner decorator finished\"\n",
    "            #wrapper finsihed\n",
    "\n",
    "        #Nested decorator finished\n",
    "        return wrapper_run_multiple\n",
    "    \n",
    "    return nested_decorator\n",
    "        "
   ]
  },
  {
   "cell_type": "code",
   "execution_count": 14,
   "metadata": {},
   "outputs": [],
   "source": [
    "@run_multiple(num_times=6)\n",
    "def just_another_simple_func():\n",
    "    print \"I am just another simple function\""
   ]
  },
  {
   "cell_type": "code",
   "execution_count": 15,
   "metadata": {},
   "outputs": [
    {
     "name": "stdout",
     "output_type": "stream",
     "text": [
      "Inside Inner decorator\n",
      "I am just another simple function\n",
      "I am just another simple function\n",
      "I am just another simple function\n",
      "I am just another simple function\n",
      "I am just another simple function\n",
      "I am just another simple function\n",
      "Inner decorator finished\n"
     ]
    }
   ],
   "source": [
    "just_another_simple_func()"
   ]
  },
  {
   "cell_type": "markdown",
   "metadata": {},
   "source": [
    "# Using Arguments with Decorators"
   ]
  },
  {
   "cell_type": "code",
   "execution_count": 31,
   "metadata": {},
   "outputs": [],
   "source": [
    "@run_multiple(num_times=8)\n",
    "def func_with_args(sen1, sen2):\n",
    "    print sen1 + sen2"
   ]
  },
  {
   "cell_type": "code",
   "execution_count": 18,
   "metadata": {},
   "outputs": [
    {
     "ename": "TypeError",
     "evalue": "wrapper_run_multiple() takes no arguments (2 given)",
     "output_type": "error",
     "traceback": [
      "\u001b[0;31m---------------------------------------------------------------------------\u001b[0m",
      "\u001b[0;31mTypeError\u001b[0m                                 Traceback (most recent call last)",
      "\u001b[0;32m<ipython-input-18-a4ae3cdca254>\u001b[0m in \u001b[0;36m<module>\u001b[0;34m()\u001b[0m\n\u001b[0;32m----> 1\u001b[0;31m \u001b[0mfunc_with_args\u001b[0m\u001b[0;34m(\u001b[0m\u001b[0;34m\"hello\"\u001b[0m\u001b[0;34m,\u001b[0m \u001b[0;34m\"world\"\u001b[0m\u001b[0;34m)\u001b[0m\u001b[0;34m\u001b[0m\u001b[0m\n\u001b[0m",
      "\u001b[0;31mTypeError\u001b[0m: wrapper_run_multiple() takes no arguments (2 given)"
     ]
    }
   ],
   "source": [
    "func_with_args(\"hello\", \"world\")"
   ]
  },
  {
   "cell_type": "code",
   "execution_count": 19,
   "metadata": {},
   "outputs": [],
   "source": [
    "def decorator_with_args(my_func):\n",
    "    def wrapper_with_args(*args, **kwargs):\n",
    "        print \"Inside decorator\"\n",
    "        my_func(*args, **kwargs)\n",
    "        print \"Decoration done\"\n",
    "    return wrapper_with_args"
   ]
  },
  {
   "cell_type": "code",
   "execution_count": 20,
   "metadata": {},
   "outputs": [],
   "source": [
    "@decorator_with_args\n",
    "def func_with_args(sen1, sen2):\n",
    "    print sen1 + sen2"
   ]
  },
  {
   "cell_type": "code",
   "execution_count": 21,
   "metadata": {},
   "outputs": [
    {
     "name": "stdout",
     "output_type": "stream",
     "text": [
      "Inside decorator\n",
      "helloworld\n",
      "Decoration done\n"
     ]
    }
   ],
   "source": [
    "func_with_args(\"hello\", \"world\")"
   ]
  },
  {
   "cell_type": "markdown",
   "metadata": {},
   "source": [
    "# Nested decorators with arguments"
   ]
  },
  {
   "cell_type": "code",
   "execution_count": 25,
   "metadata": {},
   "outputs": [],
   "source": [
    "def run_multiple_nested(num_times):\n",
    "    \n",
    "    def decorator_with_args(my_func):\n",
    "    \n",
    "        def wrapper_with_args(*args, **kwargs):\n",
    "            print \"Inside decorator\"\n",
    "            for i in range(0, num_times):\n",
    "                my_func(*args, **kwargs)\n",
    "            print \"Decoration done\"\n",
    "        return wrapper_with_args\n",
    "    \n",
    "    return decorator_with_args\n",
    "    "
   ]
  },
  {
   "cell_type": "code",
   "execution_count": 26,
   "metadata": {},
   "outputs": [],
   "source": [
    "@run_multiple_nested(num_times=5)\n",
    "def func_with_args(sen1, sen2):\n",
    "    print sen1 + sen2"
   ]
  },
  {
   "cell_type": "code",
   "execution_count": 27,
   "metadata": {},
   "outputs": [
    {
     "name": "stdout",
     "output_type": "stream",
     "text": [
      "Inside decorator\n",
      "helloworld\n",
      "helloworld\n",
      "helloworld\n",
      "helloworld\n",
      "helloworld\n",
      "Decoration done\n"
     ]
    }
   ],
   "source": [
    "func_with_args(\"hello\", \"world\")"
   ]
  },
  {
   "cell_type": "code",
   "execution_count": 28,
   "metadata": {},
   "outputs": [],
   "source": [
    "@run_multiple_nested(num_times=5)\n",
    "def func_with_no_args():\n",
    "    print \"I am a function with no arguments\""
   ]
  },
  {
   "cell_type": "code",
   "execution_count": 30,
   "metadata": {},
   "outputs": [
    {
     "name": "stdout",
     "output_type": "stream",
     "text": [
      "Inside decorator\n",
      "I am a function with no arguments\n",
      "I am a function with no arguments\n",
      "I am a function with no arguments\n",
      "I am a function with no arguments\n",
      "I am a function with no arguments\n",
      "Decoration done\n"
     ]
    }
   ],
   "source": [
    "func_with_no_args()"
   ]
  },
  {
   "cell_type": "code",
   "execution_count": null,
   "metadata": {},
   "outputs": [],
   "source": []
  }
 ],
 "metadata": {
  "kernelspec": {
   "display_name": "Python 2",
   "language": "python",
   "name": "python2"
  },
  "language_info": {
   "codemirror_mode": {
    "name": "ipython",
    "version": 2
   },
   "file_extension": ".py",
   "mimetype": "text/x-python",
   "name": "python",
   "nbconvert_exporter": "python",
   "pygments_lexer": "ipython2",
   "version": "2.7.15"
  }
 },
 "nbformat": 4,
 "nbformat_minor": 2
}
