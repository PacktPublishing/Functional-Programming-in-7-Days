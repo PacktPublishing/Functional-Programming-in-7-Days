{
 "cells": [
  {
   "cell_type": "markdown",
   "metadata": {},
   "source": [
    "# Recursive Fibonacci"
   ]
  },
  {
   "cell_type": "code",
   "execution_count": 1,
   "metadata": {},
   "outputs": [],
   "source": [
    "def fibo_rec(n):\n",
    "    if n == 0:\n",
    "        return 0\n",
    "    elif n == 1:\n",
    "        return 1\n",
    "    else:\n",
    "        return fibo_rec(n-1) + fibo_rec(n-2)\n",
    "\n"
   ]
  },
  {
   "cell_type": "code",
   "execution_count": 2,
   "metadata": {},
   "outputs": [
    {
     "name": "stdout",
     "output_type": "stream",
     "text": [
      "Time elapsed is  1.80736303329  seconds\n"
     ]
    }
   ],
   "source": [
    "import time \n",
    "n = 34\n",
    "\n",
    "start_t = time.time()\n",
    "result = fibo_rec(n)\n",
    "end_t = time.time()\n",
    "time_taken = end_t - start_t\n",
    "\n",
    "print \"Time elapsed is \", time_taken, \" seconds\""
   ]
  },
  {
   "cell_type": "markdown",
   "metadata": {},
   "source": [
    "# Caching using Cachetools"
   ]
  },
  {
   "cell_type": "code",
   "execution_count": 3,
   "metadata": {},
   "outputs": [],
   "source": [
    "from cachetools import cached"
   ]
  },
  {
   "cell_type": "code",
   "execution_count": 5,
   "metadata": {},
   "outputs": [],
   "source": [
    "@cached(cache={})\n",
    "def fibo_rec2(n):\n",
    "    if n == 0:\n",
    "        return 0\n",
    "    elif n == 1:\n",
    "        return 1\n",
    "    else:\n",
    "        return fibo_rec2(n-1) + fibo_rec2(n-2)\n",
    "    \n",
    "# Fibonacci nos = 0, 1, 1, 2, 3, 5, ...\n",
    "#cache[3] = 2, cache[4]= 3, cache[5] = 5"
   ]
  },
  {
   "cell_type": "code",
   "execution_count": 10,
   "metadata": {},
   "outputs": [
    {
     "name": "stdout",
     "output_type": "stream",
     "text": [
      "Time elapsed is  0.000332117080688  seconds\n"
     ]
    }
   ],
   "source": [
    "n = 50\n",
    "\n",
    "start_t = time.time()\n",
    "result = fibo_rec2(n)\n",
    "end_t = time.time()\n",
    "time_taken = end_t - start_t\n",
    "\n",
    "print \"Time elapsed is \", time_taken, \" seconds\""
   ]
  },
  {
   "cell_type": "markdown",
   "metadata": {},
   "source": [
    "## Using LRU cache for Python 2.x"
   ]
  },
  {
   "cell_type": "code",
   "execution_count": 7,
   "metadata": {},
   "outputs": [],
   "source": [
    "from cachetools import LRUCache\n",
    "\n",
    "@cached(cache=LRUCache(maxsize=5))\n",
    "def fibo_rec3(n):\n",
    "    if n == 0:\n",
    "        return 0\n",
    "    elif n == 1:\n",
    "        return 1\n",
    "    else:\n",
    "        return fibo_rec3(n-1) + fibo_rec3(n-2)\n",
    "\n"
   ]
  },
  {
   "cell_type": "code",
   "execution_count": 11,
   "metadata": {},
   "outputs": [
    {
     "name": "stdout",
     "output_type": "stream",
     "text": [
      "Time elapsed is  0.00110816955566  seconds\n"
     ]
    }
   ],
   "source": [
    "n = 50\n",
    "\n",
    "start_t = time.time()\n",
    "result = fibo_rec3(n)\n",
    "end_t = time.time()\n",
    "time_taken = end_t - start_t\n",
    "\n",
    "print \"Time elapsed is \", time_taken, \" seconds\""
   ]
  },
  {
   "cell_type": "markdown",
   "metadata": {},
   "source": [
    "## Using cache with TTL"
   ]
  },
  {
   "cell_type": "code",
   "execution_count": 19,
   "metadata": {},
   "outputs": [],
   "source": [
    "from cachetools import TTLCache\n",
    "\n",
    "@cached(cache=TTLCache(maxsize=30, ttl=0.001))\n",
    "def fibo_rec4(n):\n",
    "    if n == 0:\n",
    "        return 0\n",
    "    elif n == 1:\n",
    "        return 1\n",
    "    else:\n",
    "        return fibo_rec4(n-1) + fibo_rec4(n-2)\n",
    "\n"
   ]
  },
  {
   "cell_type": "code",
   "execution_count": 20,
   "metadata": {},
   "outputs": [
    {
     "name": "stdout",
     "output_type": "stream",
     "text": [
      "Time elapsed is  0.00666880607605  seconds\n"
     ]
    }
   ],
   "source": [
    "n = 100\n",
    "\n",
    "start_t = time.time()\n",
    "result = fibo_rec4(n)\n",
    "end_t = time.time()\n",
    "time_taken = end_t - start_t\n",
    "\n",
    "print \"Time elapsed is \", time_taken, \" seconds\""
   ]
  },
  {
   "cell_type": "markdown",
   "metadata": {},
   "source": [
    "## More cache implementations at : https://cachetools.readthedocs.io"
   ]
  },
  {
   "cell_type": "code",
   "execution_count": null,
   "metadata": {},
   "outputs": [],
   "source": []
  }
 ],
 "metadata": {
  "kernelspec": {
   "display_name": "Python 2",
   "language": "python",
   "name": "python2"
  },
  "language_info": {
   "codemirror_mode": {
    "name": "ipython",
    "version": 2
   },
   "file_extension": ".py",
   "mimetype": "text/x-python",
   "name": "python",
   "nbconvert_exporter": "python",
   "pygments_lexer": "ipython2",
   "version": "2.7.15"
  }
 },
 "nbformat": 4,
 "nbformat_minor": 2
}
