{
 "cells": [
  {
   "cell_type": "code",
   "execution_count": 10,
   "metadata": {},
   "outputs": [],
   "source": [
    "class Component:\n",
    "    def __init__(self, name, emp_id):\n",
    "        self.name = name\n",
    "        self.emp_id = emp_id\n",
    "\n",
    "    def print_name(self):\n",
    "        print(\"Name of employee is \", self.name)\n",
    "\n",
    "    def print_id(self):\n",
    "        print(\"ID of employee is \", self.emp_id)\n",
    "        \n",
    "#Composite node\n",
    "class Manager(Component):\n",
    "    def __init__(self, name, emp_id):\n",
    "        super().__init__(name, emp_id)\n",
    "        self.children = []\n",
    "\n",
    "    def manages(self, emp):\n",
    "        self.children.append(emp)\n",
    "    \n",
    "    def display_working_under(self):\n",
    "        print(\"Employees working under \", self.name, \" are :\")\n",
    "        for emp in self.children:\n",
    "            print(emp.name)\n",
    "\n",
    "#Leaf node\n",
    "class Employee(Component):\n",
    "    def __init__(self, name, emp_id, operation):\n",
    "        super().__init__(name, emp_id)\n",
    "        self.operation = operation\n",
    "\n",
    "    def display_operation(self):\n",
    "        print(self.name + \" does the operation : \" + self.operation)\n",
    "\n"
   ]
  },
  {
   "cell_type": "code",
   "execution_count": 11,
   "metadata": {},
   "outputs": [],
   "source": [
    "Mng1 = Manager(\"Adam\",123)"
   ]
  },
  {
   "cell_type": "code",
   "execution_count": 12,
   "metadata": {},
   "outputs": [],
   "source": [
    "emp2 = Employee(\"Bob\", 67, \"Cooking\")\n",
    "emp3 = Employee(\"Sally\", 101, \"Accounting\")"
   ]
  },
  {
   "cell_type": "code",
   "execution_count": 13,
   "metadata": {},
   "outputs": [],
   "source": [
    "Mng1.manages(emp2)\n",
    "Mng1.manages(emp3)"
   ]
  },
  {
   "cell_type": "code",
   "execution_count": 14,
   "metadata": {},
   "outputs": [
    {
     "name": "stdout",
     "output_type": "stream",
     "text": [
      "Employees working under  Adam  are :\n",
      "Bob\n",
      "Sally\n"
     ]
    }
   ],
   "source": [
    "Mng1.display_working_under()"
   ]
  },
  {
   "cell_type": "code",
   "execution_count": 15,
   "metadata": {},
   "outputs": [
    {
     "name": "stdout",
     "output_type": "stream",
     "text": [
      "Bob does the operation : Cooking\n"
     ]
    }
   ],
   "source": [
    "emp2.display_operation()"
   ]
  },
  {
   "cell_type": "code",
   "execution_count": 16,
   "metadata": {},
   "outputs": [
    {
     "name": "stdout",
     "output_type": "stream",
     "text": [
      "Sally does the operation : Accounting\n"
     ]
    }
   ],
   "source": [
    "emp3.display_operation()"
   ]
  },
  {
   "cell_type": "code",
   "execution_count": 17,
   "metadata": {},
   "outputs": [
    {
     "name": "stdout",
     "output_type": "stream",
     "text": [
      "Name of employee is  Adam\n"
     ]
    }
   ],
   "source": [
    "Mng1.print_name()"
   ]
  },
  {
   "cell_type": "code",
   "execution_count": 18,
   "metadata": {},
   "outputs": [
    {
     "name": "stdout",
     "output_type": "stream",
     "text": [
      "Name of employee is  Bob\n"
     ]
    }
   ],
   "source": [
    "emp2.print_name()"
   ]
  },
  {
   "cell_type": "code",
   "execution_count": 20,
   "metadata": {},
   "outputs": [
    {
     "name": "stdout",
     "output_type": "stream",
     "text": [
      "ID of employee is  67\n"
     ]
    }
   ],
   "source": [
    "emp2.print_id()"
   ]
  },
  {
   "cell_type": "code",
   "execution_count": null,
   "metadata": {},
   "outputs": [],
   "source": []
  }
 ],
 "metadata": {
  "kernelspec": {
   "display_name": "Python 3",
   "language": "python",
   "name": "python3"
  },
  "language_info": {
   "codemirror_mode": {
    "name": "ipython",
    "version": 3
   },
   "file_extension": ".py",
   "mimetype": "text/x-python",
   "name": "python",
   "nbconvert_exporter": "python",
   "pygments_lexer": "ipython3",
   "version": "3.6.5"
  }
 },
 "nbformat": 4,
 "nbformat_minor": 2
}
