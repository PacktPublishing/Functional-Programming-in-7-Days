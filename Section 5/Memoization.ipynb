{
 "cells": [
  {
   "cell_type": "code",
   "execution_count": 1,
   "metadata": {},
   "outputs": [],
   "source": [
    "import time"
   ]
  },
  {
   "cell_type": "markdown",
   "metadata": {},
   "source": [
    "# Recursive Fibonacci"
   ]
  },
  {
   "cell_type": "code",
   "execution_count": 2,
   "metadata": {},
   "outputs": [],
   "source": [
    "\n",
    "def fibo_rec(n):\n",
    "    if n == 0:\n",
    "        return 0\n",
    "    elif n == 1:\n",
    "        return 1\n",
    "    else:\n",
    "        return fibo_rec(n-1) + fibo_rec(n-2)\n"
   ]
  },
  {
   "cell_type": "markdown",
   "metadata": {},
   "source": [
    "# Timing Recursive Fibonacci"
   ]
  },
  {
   "cell_type": "code",
   "execution_count": 11,
   "metadata": {},
   "outputs": [
    {
     "name": "stdout",
     "output_type": "stream",
     "text": [
      "Time elapsed is  0.259042024612  seconds\n"
     ]
    }
   ],
   "source": [
    "n = 30\n",
    "\n",
    "start_t = time.time()\n",
    "result = fibo_rec(n)\n",
    "end_t = time.time()\n",
    "time_taken = end_t - start_t\n",
    "\n",
    "print \"Time elapsed is \", time_taken, \" seconds\""
   ]
  },
  {
   "cell_type": "code",
   "execution_count": null,
   "metadata": {},
   "outputs": [],
   "source": []
  },
  {
   "cell_type": "code",
   "execution_count": null,
   "metadata": {},
   "outputs": [],
   "source": []
  },
  {
   "cell_type": "markdown",
   "metadata": {},
   "source": [
    "# Memoization using a Dictionary"
   ]
  },
  {
   "cell_type": "code",
   "execution_count": 8,
   "metadata": {},
   "outputs": [],
   "source": [
    "memo_cache = {}\n",
    "\n",
    "def fibo_memo(n):\n",
    "    if n == 0:\n",
    "        return 0\n",
    "    elif n == 1:\n",
    "        return 1\n",
    "    else:\n",
    "        # Check if cache has the value\n",
    "        if memo_cache.get(n, None):\n",
    "            return memo_cache[n]\n",
    "        \n",
    "        #Else compute the value and add it to cache\n",
    "        result = fibo_memo(n-1)+fibo_memo(n-2)\n",
    "        memo_cache[n] = result\n",
    "        \n",
    "        return result\n"
   ]
  },
  {
   "cell_type": "markdown",
   "metadata": {},
   "source": [
    "# Timing the Memoization calls"
   ]
  },
  {
   "cell_type": "code",
   "execution_count": 13,
   "metadata": {},
   "outputs": [
    {
     "name": "stdout",
     "output_type": "stream",
     "text": [
      "Time elapsed is  0.00112581253052  seconds\n"
     ]
    }
   ],
   "source": [
    "n = 500\n",
    "\n",
    "start_t = time.time()\n",
    "result = fibo_memo(n)\n",
    "end_t = time.time()\n",
    "time_taken = end_t - start_t\n",
    "\n",
    "print \"Time elapsed is \", time_taken, \" seconds\""
   ]
  },
  {
   "cell_type": "code",
   "execution_count": null,
   "metadata": {},
   "outputs": [],
   "source": []
  },
  {
   "cell_type": "code",
   "execution_count": null,
   "metadata": {},
   "outputs": [],
   "source": []
  },
  {
   "cell_type": "markdown",
   "metadata": {},
   "source": [
    "# Memoization using Decorators"
   ]
  },
  {
   "cell_type": "code",
   "execution_count": 14,
   "metadata": {},
   "outputs": [],
   "source": [
    "def deco_memoize(my_func):\n",
    "    \n",
    "    # Store the cache as property of function,\n",
    "    # so that we can use different functions with caches\n",
    "    # uniquely assigned for each function.\n",
    "    cache = my_func.cache = {}\n",
    "\n",
    "    def memoize_my_func(*args, **kwargs):\n",
    "        \n",
    "        #Convert all arguments to string to check in dictnary\n",
    "        all_args_str = str(args) + str(kwargs)\n",
    "        \n",
    "        #Check the arguments in cache\n",
    "        if cache.get(all_args_str, None):\n",
    "            return cache[all_args_str]\n",
    "        else:\n",
    "            result = my_func(*args, **kwargs)\n",
    "            cache[all_args_str] = result\n",
    "            return result\n",
    "\n",
    "    return memoize_my_func"
   ]
  },
  {
   "cell_type": "code",
   "execution_count": 18,
   "metadata": {},
   "outputs": [],
   "source": [
    "@deco_memoize\n",
    "def fibo_rec2(n):\n",
    "    if n == 0:\n",
    "        return 0\n",
    "    elif n == 1:\n",
    "        return 1\n",
    "    else:\n",
    "        return fibo_rec2(n-1)+fibo_rec2(n-2)"
   ]
  },
  {
   "cell_type": "code",
   "execution_count": 19,
   "metadata": {},
   "outputs": [
    {
     "name": "stdout",
     "output_type": "stream",
     "text": [
      "Time elapsed is  0.000996112823486  seconds\n"
     ]
    }
   ],
   "source": [
    "n = 200\n",
    "\n",
    "start_t = time.time()\n",
    "result = fibo_rec2(n)\n",
    "end_t = time.time()\n",
    "time_taken = end_t - start_t\n",
    "\n",
    "print \"Time elapsed is \", time_taken, \" seconds\""
   ]
  },
  {
   "cell_type": "code",
   "execution_count": null,
   "metadata": {},
   "outputs": [],
   "source": []
  }
 ],
 "metadata": {
  "kernelspec": {
   "display_name": "Python 2",
   "language": "python",
   "name": "python2"
  },
  "language_info": {
   "codemirror_mode": {
    "name": "ipython",
    "version": 2
   },
   "file_extension": ".py",
   "mimetype": "text/x-python",
   "name": "python",
   "nbconvert_exporter": "python",
   "pygments_lexer": "ipython2",
   "version": "2.7.15"
  }
 },
 "nbformat": 4,
 "nbformat_minor": 2
}
