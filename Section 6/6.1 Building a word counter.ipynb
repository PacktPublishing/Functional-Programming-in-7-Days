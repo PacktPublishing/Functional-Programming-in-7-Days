{
 "cells": [
  {
   "cell_type": "markdown",
   "metadata": {},
   "source": [
    "# A simple functional Word Count Example"
   ]
  },
  {
   "cell_type": "code",
   "execution_count": 1,
   "metadata": {},
   "outputs": [],
   "source": [
    "from itertools import groupby\n",
    "import re "
   ]
  },
  {
   "cell_type": "code",
   "execution_count": 2,
   "metadata": {},
   "outputs": [],
   "source": [
    "# Split a line into words by seperating on ' '\n",
    "# Input : \"This is a string\"\n",
    "# Output: [\"This\", \"is\", \"a\", \"string\"]\n",
    "def split_line(lines):\n",
    "    return lines.split(' ')\n",
    "\n",
    "# Convert the list of words to list of lower case words\n",
    "# Input : [\"Hello\", \"World\", \"YOLO\"]\n",
    "# Output: [\"hello\", \"world\", \"yolo\"]\n",
    "def convert_lower(words_list):\n",
    "    return list(map(lambda x: x.lower(), words_list))"
   ]
  },
  {
   "cell_type": "code",
   "execution_count": 3,
   "metadata": {},
   "outputs": [],
   "source": [
    "# Remove any empty space from words\n",
    "# Input: [\"   This \", \" is \", \"a\", \"              string\"]\n",
    "# Output: [\"This\", \"is\", \"a\", \"string\"]\n",
    "def trim_lines(lines_list):\n",
    "    return list(map(lambda x: x.strip(), lines_list))\n",
    "\n",
    "# Remove empty strings\n",
    "# Input: [\"\", \"This\", \"\", \"is\", \"a\", \"string\"]\n",
    "# Output: [\"This\", \"is\", \"a\", \"string\"]\n",
    "def remove_empty(words_list):\n",
    "    return list(filter(lambda x: x!='', words_list))\n",
    "\n",
    "# Remove Punctuation from word/string\n",
    "# Input : \"Yolo!!! Hello,.#world?\"\n",
    "# Output: \"Yolo Helloworld\"\n",
    "def remove_punctuation(my_string):\n",
    "    return re.sub(r'[^\\w\\s]','',my_string)"
   ]
  },
  {
   "cell_type": "code",
   "execution_count": 4,
   "metadata": {},
   "outputs": [],
   "source": [
    "# Group words together\n",
    "# Input : [\"hello\", \"world\", \"hello\", \"yolo\", \"world\"]\n",
    "# Output: An itertools.groupby object \n",
    "# Code : \n",
    "# for k, v in groupby(sorted([\"hello\", \"world\", \"hello\", \"yolo\", \"world\"])):\n",
    "#    print(k, list(v))\n",
    "# Output for above code\n",
    "# hello ['hello', 'hello']\n",
    "# world ['world', 'world']\n",
    "# yolo ['yolo']\n",
    "def group_words(words_list):\n",
    "    return groupby(sorted(words_list))"
   ]
  },
  {
   "cell_type": "code",
   "execution_count": 13,
   "metadata": {},
   "outputs": [],
   "source": [
    "# Returns count of each word\n",
    "def get_word_count(grouped_words):\n",
    "    return list(map(lambda x: (x[0], len(list(x[1]))),grouped_words))"
   ]
  },
  {
   "cell_type": "code",
   "execution_count": 14,
   "metadata": {},
   "outputs": [],
   "source": [
    "my_str = \"\"\"hello this is a string. This is a good String.\n",
    "            hello world!!! \"\"\""
   ]
  },
  {
   "cell_type": "code",
   "execution_count": 15,
   "metadata": {},
   "outputs": [],
   "source": [
    "# Remove Punctuation\n",
    "remove_punct = remove_punctuation(my_str)\n",
    "\n",
    "# Split the words\n",
    "words_list = split_line(remove_punct)\n",
    "\n",
    "# Lower and trim the words\n",
    "lower_and_trim_list = trim_lines(convert_lower(words_list))\n",
    "\n",
    "# Filter empty strings\n",
    "filtered_words = remove_empty(lower_and_trim_list)\n",
    "\n",
    "# Group the words\n",
    "grouped_words_iterable = group_words(filtered_words)\n",
    "\n",
    "# Retrieve the word count fromt the groupby iterable\n",
    "word_count_dict = get_word_count(grouped_words_iterable)"
   ]
  },
  {
   "cell_type": "code",
   "execution_count": 16,
   "metadata": {},
   "outputs": [
    {
     "data": {
      "text/plain": [
       "[('a', 2),\n",
       " ('good', 1),\n",
       " ('hello', 2),\n",
       " ('is', 2),\n",
       " ('string', 2),\n",
       " ('this', 2),\n",
       " ('world', 1)]"
      ]
     },
     "execution_count": 16,
     "metadata": {},
     "output_type": "execute_result"
    }
   ],
   "source": [
    "word_count_dict"
   ]
  },
  {
   "cell_type": "markdown",
   "metadata": {},
   "source": [
    "You can modify the data type as you want. "
   ]
  },
  {
   "cell_type": "markdown",
   "metadata": {},
   "source": [
    "# Alternate ways you can try\n",
    "1. Make use of itertools.chain\n",
    "2. Use functional compostion (discussed in next section)"
   ]
  },
  {
   "cell_type": "code",
   "execution_count": null,
   "metadata": {},
   "outputs": [],
   "source": []
  }
 ],
 "metadata": {
  "kernelspec": {
   "display_name": "Python 3",
   "language": "python",
   "name": "python3"
  },
  "language_info": {
   "codemirror_mode": {
    "name": "ipython",
    "version": 3
   },
   "file_extension": ".py",
   "mimetype": "text/x-python",
   "name": "python",
   "nbconvert_exporter": "python",
   "pygments_lexer": "ipython3",
   "version": "3.6.5"
  }
 },
 "nbformat": 4,
 "nbformat_minor": 2
}
