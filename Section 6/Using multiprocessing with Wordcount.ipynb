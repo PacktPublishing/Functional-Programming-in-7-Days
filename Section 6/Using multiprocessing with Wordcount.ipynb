{
 "cells": [
  {
   "cell_type": "markdown",
   "metadata": {},
   "source": [
    "## Reference : https://docs.python.org/3/library/multiprocessing.html"
   ]
  },
  {
   "cell_type": "markdown",
   "metadata": {},
   "source": [
    "# Simple Word Counter Code"
   ]
  },
  {
   "cell_type": "code",
   "execution_count": 5,
   "metadata": {},
   "outputs": [],
   "source": [
    "import time\n",
    "import multiprocessing\n",
    "from itertools import groupby\n",
    "import re "
   ]
  },
  {
   "cell_type": "code",
   "execution_count": 1,
   "metadata": {},
   "outputs": [],
   "source": [
    "def split_lines(lines):\n",
    "    return lines.split(' ')\n",
    "\n",
    "def convert_lower(lines_list):\n",
    "    return list(map(lambda x: x.lower(), lines_list))\n",
    "\n",
    "def trim_lines(lines_list):\n",
    "    return list(map(lambda x: x.strip(), lines_list))\n",
    "\n",
    "def remove_empty(words_list):\n",
    "    return list(filter(lambda x: x!='', words_list))\n",
    "\n",
    "def group_words(words_list):\n",
    "    return groupby(sorted(words_list))\n",
    "\n",
    "def get_word_count(grouped_words):\n",
    "    return list(map(lambda x: (x[0], len(list(x[1]))),grouped_words))\n",
    "\n",
    "def remove_punctuation(my_string):\n",
    "    return re.sub(r'[^\\w\\s]','',my_string)\n",
    "\n",
    "def wordcount(text):\n",
    "    trim_split_punct = trim_lines(split_lines(remove_punctuation(text)))\n",
    "    sanitize_words_list = convert_lower(remove_empty(trim_split_punct))\n",
    "    word_count_dict = get_word_count(group_words(sanitize_words_list))\n",
    "    return word_count_dict"
   ]
  },
  {
   "cell_type": "code",
   "execution_count": 2,
   "metadata": {},
   "outputs": [],
   "source": [
    "# Decorating to return execution time of function\n",
    "def time_deco(my_func):\n",
    "    def inner_wrap(*args, **kwargs):\n",
    "        start = time.time()\n",
    "        my_func(*args, **kwargs)\n",
    "        end = time.time()\n",
    "        print(\"Time taken is {} seconds\".format(end-start))\n",
    "    return inner_wrap\n"
   ]
  },
  {
   "cell_type": "code",
   "execution_count": 3,
   "metadata": {},
   "outputs": [],
   "source": [
    "multiple_strs = [\"This is a string with a single string\"]*120000"
   ]
  },
  {
   "cell_type": "code",
   "execution_count": 6,
   "metadata": {},
   "outputs": [
    {
     "name": "stdout",
     "output_type": "stream",
     "text": [
      "Time taken is 1.530799150466919 seconds\n"
     ]
    }
   ],
   "source": [
    "# Run wordcount linearly\n",
    "\n",
    "@time_deco\n",
    "def linear_word_count(multiple_strs):\n",
    "    total_word_count = {}\n",
    "    for single_str in multiple_strs:\n",
    "        single_word_count = wordcount(single_str)\n",
    "        total_word_count.update(single_word_count)\n",
    "    return total_word_count\n",
    "        \n",
    "linear_word_count(multiple_strs)    \n"
   ]
  },
  {
   "cell_type": "code",
   "execution_count": 11,
   "metadata": {},
   "outputs": [
    {
     "name": "stdout",
     "output_type": "stream",
     "text": [
      "Time taken is 0.8768208026885986 seconds\n"
     ]
    }
   ],
   "source": [
    "@time_deco\n",
    "def multiprocess_word_count(multiple_strs):\n",
    "    total_word_count = {}\n",
    "    with multiprocessing.Pool(4) as workers:\n",
    "        result_iter = workers.map(wordcount, multiple_strs)\n",
    "        for single_word_count in result_iter:\n",
    "            total_word_count.update(single_word_count)\n",
    "    return total_word_count\n",
    "\n",
    "multiprocess_word_count(multiple_strs)"
   ]
  },
  {
   "cell_type": "markdown",
   "metadata": {},
   "source": [
    "## Also take a look at map_async and imap_unordered from multiprocessing module and compare their performances"
   ]
  },
  {
   "cell_type": "code",
   "execution_count": null,
   "metadata": {},
   "outputs": [],
   "source": []
  }
 ],
 "metadata": {
  "kernelspec": {
   "display_name": "Python 3",
   "language": "python",
   "name": "python3"
  },
  "language_info": {
   "codemirror_mode": {
    "name": "ipython",
    "version": 3
   },
   "file_extension": ".py",
   "mimetype": "text/x-python",
   "name": "python",
   "nbconvert_exporter": "python",
   "pygments_lexer": "ipython3",
   "version": "3.6.5"
  }
 },
 "nbformat": 4,
 "nbformat_minor": 2
}
