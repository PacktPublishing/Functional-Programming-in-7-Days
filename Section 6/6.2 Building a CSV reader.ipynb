{
 "cells": [
  {
   "cell_type": "markdown",
   "metadata": {},
   "source": [
    "# A simple CSV Reader example"
   ]
  },
  {
   "cell_type": "code",
   "execution_count": 1,
   "metadata": {},
   "outputs": [],
   "source": [
    "# For the sake of this tutorial assume the csv file\n",
    "# has been read into this string\n",
    "\n",
    "csv_file = \"\"\"ID,Designation,Name,Salary(USD)\n",
    "123,Manager,John Doe,10000\n",
    "157,Engineer,Jimmy Joe,5000\n",
    "190,Engineer,Alice Holmes,6000\n",
    "191,Accountant,Jack Oliver,8000\n",
    "200,Inter,Jessica Homer,1000\n",
    "202,HR Manager, Robert Stark,4000\"\"\""
   ]
  },
  {
   "cell_type": "code",
   "execution_count": 2,
   "metadata": {},
   "outputs": [],
   "source": [
    "# Split csv file into a list of lines\n",
    "# Input: \"\"\"ID,Designation,Name,Salary(USD)\\n\n",
    "# 123,Manager,John Doe, 10000\\n\n",
    "# 202,HR Manager, Robert Stark, 4000\"\"\"\n",
    "#\n",
    "# Output: [\"ID,Designation,Name,Salary(USD)\",\n",
    "#         \"123,Manager,John Doe, 10000\",\n",
    "#         \"202,HR Manager, Robert Stark, 4000\"]\n",
    "\n",
    "def split_new_lines(lines):\n",
    "    return lines.split('\\n')\n"
   ]
  },
  {
   "cell_type": "code",
   "execution_count": 17,
   "metadata": {},
   "outputs": [],
   "source": [
    "# Split list of lines into list of list of data\n",
    "# Input :  [\"ID,Designation,Name,Salary(USD)\",\n",
    "#         \"123,Manager,John Doe, 10000\",\n",
    "#         \"202,HR Manager, Robert Stark, 4000\"]\n",
    "#\n",
    "# Output :  [[\"ID\", \"Designation\", \"Name\", \"Salary(USD)\"],\n",
    "#         [\"123\",\"Manager\",\"John Doe\", \"10000\",],\n",
    "#         [\"202\",\"HR Manager\", \"Robert Stark\", \"4000\"]]\n",
    "#\n",
    "def split_delimeter(list_lines, delim=','):\n",
    "    return list(map(lambda x: x.split(delim), list_lines))\n"
   ]
  },
  {
   "cell_type": "code",
   "execution_count": 4,
   "metadata": {},
   "outputs": [],
   "source": [
    "# Seperate header and data\n",
    "# Header is at the start of the list\n",
    "def seperate_header(lines):\n",
    "    return lines[0], lines[1:]\n",
    "\n"
   ]
  },
  {
   "cell_type": "code",
   "execution_count": 10,
   "metadata": {},
   "outputs": [],
   "source": [
    "#Create a dictionary using the header information\n",
    "# Input : header=[\"ID\", \"Designation\", \"Name\", \"Salary(USD)\"]\n",
    "#         data_rows=[[\"123\",\"Manager\",\"John Doe\", \"10000\"],\n",
    "#         [\"202\",\"HR Manager\", \"Robert Stark\", \"4000\"]]\n",
    "#\n",
    "#Output = [{'ID': '123','Designation': 'Manager','Name': 'John Doe','Salary(USD)': '10000'},\n",
    "#          {'ID': '202','Designation': 'HR Manager','Name': ' Robert Stark','Salary(USD)': ' 4000'}]\n",
    "#\n",
    "def create_row(header, data_rows):\n",
    "    return list(map(lambda x:{k:v for k,v in zip(header,x)} , data_rows))\n"
   ]
  },
  {
   "cell_type": "code",
   "execution_count": 11,
   "metadata": {},
   "outputs": [],
   "source": [
    "#{k:v for k, v in (zip([\"ID\", \"Designation\", \"Name\", \"Salary(USD)\"], [\"123\",\"Manager\",\"John Doe\", \"10000\"]))}"
   ]
  },
  {
   "cell_type": "code",
   "execution_count": 20,
   "metadata": {},
   "outputs": [],
   "source": [
    "#print(\"Lines after Split\")\n",
    "get_lines = split_new_lines(csv_file)\n",
    "#print(get_lines)\n",
    "\n",
    "#print(\"\\nData items after Split\")\n",
    "get_rows_as_list = split_delimeter(get_lines, delim=',')\n",
    "#print(get_rows_as_list)\n",
    "\n",
    "#print(\"\\n\\n Keys \")\n",
    "keys, values = seperate_header(get_rows_as_list)\n",
    "#print(keys)\n",
    "#print(\"\\n Values\")\n",
    "#print(values)"
   ]
  },
  {
   "cell_type": "code",
   "execution_count": 21,
   "metadata": {},
   "outputs": [
    {
     "data": {
      "text/plain": [
       "[{'ID': '123',\n",
       "  'Designation': 'Manager',\n",
       "  'Name': 'John Doe',\n",
       "  'Salary(USD)': '10000'},\n",
       " {'ID': '157',\n",
       "  'Designation': 'Engineer',\n",
       "  'Name': 'Jimmy Joe',\n",
       "  'Salary(USD)': '5000'},\n",
       " {'ID': '190',\n",
       "  'Designation': 'Engineer',\n",
       "  'Name': 'Alice Holmes',\n",
       "  'Salary(USD)': '6000'},\n",
       " {'ID': '191',\n",
       "  'Designation': 'Accountant',\n",
       "  'Name': 'Jack Oliver',\n",
       "  'Salary(USD)': '8000'},\n",
       " {'ID': '200',\n",
       "  'Designation': 'Inter',\n",
       "  'Name': 'Jessica Homer',\n",
       "  'Salary(USD)': '1000'},\n",
       " {'ID': '202',\n",
       "  'Designation': 'HR Manager',\n",
       "  'Name': ' Robert Stark',\n",
       "  'Salary(USD)': '4000'}]"
      ]
     },
     "execution_count": 21,
     "metadata": {},
     "output_type": "execute_result"
    }
   ],
   "source": [
    "create_row(keys, values)"
   ]
  },
  {
   "cell_type": "code",
   "execution_count": null,
   "metadata": {},
   "outputs": [],
   "source": []
  }
 ],
 "metadata": {
  "kernelspec": {
   "display_name": "Python 3",
   "language": "python",
   "name": "python3"
  },
  "language_info": {
   "codemirror_mode": {
    "name": "ipython",
    "version": 3
   },
   "file_extension": ".py",
   "mimetype": "text/x-python",
   "name": "python",
   "nbconvert_exporter": "python",
   "pygments_lexer": "ipython3",
   "version": "3.6.5"
  }
 },
 "nbformat": 4,
 "nbformat_minor": 2
}
