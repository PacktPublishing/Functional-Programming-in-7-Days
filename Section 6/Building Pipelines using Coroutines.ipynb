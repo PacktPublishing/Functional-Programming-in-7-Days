{
 "cells": [
  {
   "cell_type": "markdown",
   "metadata": {},
   "source": [
    "# We will be building a Coroutine pipeline for Word Counter"
   ]
  },
  {
   "cell_type": "code",
   "execution_count": 10,
   "metadata": {},
   "outputs": [],
   "source": [
    "import re \n",
    "\n",
    "# Producer \n",
    "def word_count_producer(text, sanitize_coroutine):\n",
    "    for word in text.split(' '):\n",
    "        sanitize_coroutine.send(word)\n",
    "    sanitize_coroutine.close()\n",
    "\n",
    "\n",
    "# Filter1: Remove Punctuation\n",
    "def remove_punctuation(next_coroutine):\n",
    "    print(\"Start punctuation removal\")\n",
    "    try:\n",
    "        while True:\n",
    "            word = yield\n",
    "            next_coroutine.send(re.sub(r'[^\\w\\s]','',word))\n",
    "    except:\n",
    "        next_coroutine.close()\n",
    "\n",
    "# Filter2: changes the case to lowercase\n",
    "def sanitize_word(next_coroutine):\n",
    "    print(\"Start lowering words\")\n",
    "    try:\n",
    "        while True:\n",
    "            word = yield\n",
    "            next_coroutine.send(word.lower())\n",
    "    except:\n",
    "        next_coroutine.close()\n",
    "        \n",
    "        \n",
    "# Sink: Prints the word_count\n",
    "def print_word_count():\n",
    "    word_count = {}\n",
    "    try:\n",
    "        while True:\n",
    "            word = yield\n",
    "            if word_count.get(word, None):\n",
    "                word_count[word]+=1\n",
    "            else:\n",
    "                word_count[word] = 1\n",
    "    except GeneratorExit:\n",
    "        print(word_count)\n",
    "        "
   ]
  },
  {
   "cell_type": "code",
   "execution_count": 11,
   "metadata": {},
   "outputs": [],
   "source": [
    "#First initialize the sink, and then continue in reverse order\n",
    "my_wc = print_word_count()\n"
   ]
  },
  {
   "cell_type": "code",
   "execution_count": 12,
   "metadata": {},
   "outputs": [],
   "source": [
    "# Call next over sink\n",
    "next(my_wc)"
   ]
  },
  {
   "cell_type": "code",
   "execution_count": 13,
   "metadata": {},
   "outputs": [],
   "source": [
    "# Initialize the filters in reverse and \n",
    "# chain the sink to the last filter\n",
    "sn_words = sanitize_word(my_wc)"
   ]
  },
  {
   "cell_type": "code",
   "execution_count": 14,
   "metadata": {},
   "outputs": [
    {
     "name": "stdout",
     "output_type": "stream",
     "text": [
      "Start lowering words\n"
     ]
    }
   ],
   "source": [
    "next(sn_words)"
   ]
  },
  {
   "cell_type": "code",
   "execution_count": 15,
   "metadata": {},
   "outputs": [
    {
     "name": "stdout",
     "output_type": "stream",
     "text": [
      "{}\n"
     ]
    }
   ],
   "source": [
    "# Similarly, initialize the filters in reverse order\n",
    "# and attach the previously initialized filter to them\n",
    "rem_words = remove_punctuation(sn_words)"
   ]
  },
  {
   "cell_type": "code",
   "execution_count": 16,
   "metadata": {},
   "outputs": [
    {
     "name": "stdout",
     "output_type": "stream",
     "text": [
      "Start punctuation removal\n"
     ]
    }
   ],
   "source": [
    "next(rem_words)"
   ]
  },
  {
   "cell_type": "code",
   "execution_count": 17,
   "metadata": {},
   "outputs": [],
   "source": [
    "my_str = \"hello this is a string. This is a good String.\""
   ]
  },
  {
   "cell_type": "code",
   "execution_count": 18,
   "metadata": {},
   "outputs": [
    {
     "name": "stdout",
     "output_type": "stream",
     "text": [
      "{'hello': 1, 'this': 2, 'is': 2, 'a': 2, 'string': 2, 'good': 1}\n"
     ]
    }
   ],
   "source": [
    "# Finally call the producer with the last initialized filter\n",
    "word_count_producer(my_str,rem_words)"
   ]
  },
  {
   "cell_type": "code",
   "execution_count": null,
   "metadata": {},
   "outputs": [],
   "source": []
  },
  {
   "cell_type": "code",
   "execution_count": null,
   "metadata": {},
   "outputs": [],
   "source": []
  }
 ],
 "metadata": {
  "kernelspec": {
   "display_name": "Python 3",
   "language": "python",
   "name": "python3"
  },
  "language_info": {
   "codemirror_mode": {
    "name": "ipython",
    "version": 3
   },
   "file_extension": ".py",
   "mimetype": "text/x-python",
   "name": "python",
   "nbconvert_exporter": "python",
   "pygments_lexer": "ipython3",
   "version": "3.6.5"
  }
 },
 "nbformat": 4,
 "nbformat_minor": 2
}
